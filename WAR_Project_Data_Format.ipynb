{
  "nbformat": 4,
  "nbformat_minor": 0,
  "metadata": {
    "colab": {
      "provenance": [],
      "include_colab_link": true
    },
    "kernelspec": {
      "name": "python3",
      "display_name": "Python 3"
    },
    "language_info": {
      "name": "python"
    }
  },
  "cells": [
    {
      "cell_type": "markdown",
      "metadata": {
        "id": "view-in-github",
        "colab_type": "text"
      },
      "source": [
        "<a href=\"https://colab.research.google.com/github/TejSuklikar/WAR-Project/blob/main/WAR_Project_Data_Format.ipynb\" target=\"_parent\"><img src=\"https://colab.research.google.com/assets/colab-badge.svg\" alt=\"Open In Colab\"/></a>"
      ]
    },
    {
      "cell_type": "markdown",
      "source": [
        "IMPORT PANDAS LIBRARY"
      ],
      "metadata": {
        "id": "BIOM7iTE-9ao"
      }
    },
    {
      "cell_type": "code",
      "source": [
        "import pandas as pd\n",
        "from sklearn import linear_model\n",
        "from sklearn.metrics import r2_score"
      ],
      "metadata": {
        "id": "kCJMqUjjrkbg"
      },
      "execution_count": null,
      "outputs": []
    },
    {
      "cell_type": "markdown",
      "source": [
        "MOUNT GOOGLE DRIVE"
      ],
      "metadata": {
        "id": "qzHQXMgAAiSk"
      }
    },
    {
      "cell_type": "code",
      "source": [
        "from google.colab import drive\n",
        "drive.mount('/content/drive')"
      ],
      "metadata": {
        "id": "2oYJ6TIfAfAK"
      },
      "execution_count": null,
      "outputs": []
    },
    {
      "cell_type": "markdown",
      "source": [
        "FORMATTING ORIGINAL DATASET TO ONLY INCLUDE NECCESARY DATA"
      ],
      "metadata": {
        "id": "jPKYOTep9vpy"
      }
    },
    {
      "cell_type": "code",
      "execution_count": null,
      "metadata": {
        "id": "xxiNjrHXxBhu"
      },
      "outputs": [],
      "source": [
        "war = pd.read_csv(\"0519_baseball_reference.csv\")\n",
        "year = war[war[\"year\"] > 2012]\n",
        "year['freq'] = year.name.map(year.name.value_counts())\n",
        "temp = year[year['freq']==4]\n",
        "temp.head()\n",
        "war_data = temp[['year', 'name', 'war','playerid']]\n",
        "war_data.to_csv(\"war_data.csv\")"
      ]
    },
    {
      "cell_type": "code",
      "source": [],
      "metadata": {
        "id": "VzX7mJnGK86T"
      },
      "execution_count": null,
      "outputs": []
    },
    {
      "cell_type": "markdown",
      "source": [
        "----------------IMPORTING DATA INTO DIFFERENT CSV FILES--------------------"
      ],
      "metadata": {
        "id": "palJ2inLqgSL"
      }
    },
    {
      "cell_type": "code",
      "source": [
        "war_data = pd.read_csv(\"war_data.csv\")\n"
      ],
      "metadata": {
        "id": "anZC6JcMZq-r"
      },
      "execution_count": null,
      "outputs": []
    },
    {
      "cell_type": "markdown",
      "source": [
        "TRAINING SET"
      ],
      "metadata": {
        "id": "ZTtfb7eT9_h6"
      }
    },
    {
      "cell_type": "code",
      "source": [
        "'''train_year = war_data[war_data[\"year\"] > 2011]\n",
        "train_year_plus= train_year[train_year['year'] < 2015]\n",
        "train = train_year_plus[['year', 'name', 'war','playerid']]\n",
        "train.head(50)\n",
        "train.to_csv(\"train_data.csv\")'''\n",
        "x_train = war_data[['2012','2013','2014']]\n",
        "y_train = war_data[['2015']]\n",
        "#print(x_train.head)\n",
        "#print(y_train.head)"
      ],
      "metadata": {
        "id": "JPsI3JBo5Vf2"
      },
      "execution_count": null,
      "outputs": []
    },
    {
      "cell_type": "markdown",
      "source": [
        "VALIDATION SET"
      ],
      "metadata": {
        "id": "bJn3RSaJ-COl"
      }
    },
    {
      "cell_type": "code",
      "source": [],
      "metadata": {
        "id": "hfzgFOy84hCj"
      },
      "execution_count": null,
      "outputs": []
    },
    {
      "cell_type": "markdown",
      "source": [
        "TEST SET"
      ],
      "metadata": {
        "id": "51biirbK-E1f"
      }
    },
    {
      "cell_type": "code",
      "source": [
        "'''test_year = war_data[war_data[\"year\"] > 2018]\n",
        "test = test_year[['year', 'name', 'war','playerid']]\n",
        "test.head()\n",
        "test.to_csv(\"test_data.csv\")'''\n",
        "x_test = war_data[['2016','2017','2018']]\n",
        "y_test = war_data[['2019']]\n",
        "#print(x_test.head)\n",
        "#print(y_test.head)"
      ],
      "metadata": {
        "id": "Cie_D-vt5DcX"
      },
      "execution_count": null,
      "outputs": []
    },
    {
      "cell_type": "code",
      "source": [
        "#val_year = war_data[war_data[\"year\"] > 2016]\n",
        "#val_year_plus= val_year[val_year['year'] < 2019]\n",
        "#val = val_year_plus[['year', 'name', 'war','playerid']]\n",
        "#val.head()\n",
        "#val.to_csv(\"val_data.csv\")"
      ],
      "metadata": {
        "id": "eOsKP46jL6xr"
      },
      "execution_count": null,
      "outputs": []
    }
  ]
}